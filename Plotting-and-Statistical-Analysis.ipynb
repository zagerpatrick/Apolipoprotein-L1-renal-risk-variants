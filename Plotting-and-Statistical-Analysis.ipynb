{
 "cells": [
  {
   "cell_type": "markdown",
   "metadata": {},
   "source": [
    "## Load Data"
   ]
  },
  {
   "cell_type": "code",
   "execution_count": null,
   "metadata": {},
   "outputs": [],
   "source": [
    "result = pandas.read_excel(\"CHO-Cell-Surface-APOL1-IF\\Results\\result.xlsx\")"
   ]
  },
  {
   "cell_type": "markdown",
   "metadata": {},
   "source": [
    "## Plotting Results"
   ]
  },
  {
   "cell_type": "code",
   "execution_count": null,
   "metadata": {},
   "outputs": [],
   "source": [
    "# Plot histogram of all APOL1 per cell intensities\n",
    "\n",
    "plt.figure(figsize=(8, 6))\n",
    "plt.hist(x=result['Intensity'], bins=100)\n",
    "plt.xlim(0, 1)\n",
    "plt.ylim(0, 500)"
   ]
  },
  {
   "cell_type": "code",
   "execution_count": null,
   "metadata": {},
   "outputs": [],
   "source": [
    "untrans = result.loc[result['Condition'] == 'untransfected']\n",
    "\n",
    "plt.figure(figsize=(8, 6))\n",
    "plt.hist(x=untrans['Intensity'], bins=100)\n",
    "plt.xlim(0, 1)\n",
    "# plt.ylim(0, 500)"
   ]
  },
  {
   "cell_type": "code",
   "execution_count": null,
   "metadata": {},
   "outputs": [],
   "source": [
    "q3 = untrans['Intensity'].quantile(.75)\n",
    "q1 = untrans['Intensity'].quantile(.25)\n",
    "\n",
    "q3 + 1.5*(q3-q1)"
   ]
  },
  {
   "cell_type": "code",
   "execution_count": null,
   "metadata": {},
   "outputs": [],
   "source": [
    "# Filter APOL1 per cell intensities by cutoff defined by GMM\n",
    "\n",
    "filtered_result = result.loc[result['Intensity'] > .075]\n",
    "\n",
    "apol1_exp_cells = filtered_result.groupby(['Condition', 'Timepoint', 'Replicate']).count()\n",
    "\n",
    "non_exp_cells = result.groupby(['Condition', 'Timepoint', 'Replicate']).count()"
   ]
  },
  {
   "cell_type": "code",
   "execution_count": null,
   "metadata": {},
   "outputs": [],
   "source": [
    "per_exp = apol1_exp_cells/non_exp_cells*100\n",
    "per_exp = per_exp.reset_index()\n",
    "per_exp = per_exp.loc[per_exp['Condition'] != 'untransfected']\n",
    "per_exp = per_exp.fillna(0)"
   ]
  },
  {
   "cell_type": "code",
   "execution_count": null,
   "metadata": {},
   "outputs": [],
   "source": [
    "%cd \"C:\\Users\\paz2009\\Documents\\Experiments\\011 APOL1 (Joe) (Hunter)\\Image Analysis 2-20-19\\joe_output\"\n",
    "\n",
    "plt.figure(figsize=(8, 6))\n",
    "ax = sns.pointplot(x='Timepoint', y='Intensity', hue='Condition', data=per_exp, \n",
    "              capsize=.15, errwidth=2, scale=.8,\n",
    "              palette=[\"k\", \"mediumblue\", \"C3\"], markers=[\"o\", \"s\", \"^\"],\n",
    "              order=['no', '30min', '60min', '90min', '120min'])\n",
    "ax.set_xlabel('')\n",
    "ax.set_ylabel('')\n",
    "ax.get_legend().remove()\n",
    "plt.savefig('Percent Expressing APOL1.png', dpi=300)"
   ]
  },
  {
   "cell_type": "code",
   "execution_count": null,
   "metadata": {},
   "outputs": [],
   "source": [
    "per_exp_mean = per_exp.groupby(['Condition', 'Timepoint']).mean().reset_index()\n",
    "per_exp_min = per_exp_mean.reset_index().groupby(['Condition']).min().reset_index()"
   ]
  },
  {
   "cell_type": "code",
   "execution_count": null,
   "metadata": {},
   "outputs": [],
   "source": [
    "norm_per_exp_G0 = per_exp.loc[per_exp['Condition'] == 'G0']['Intensity'].divide \\\n",
    "                (per_exp_min.loc[per_exp_min['Condition'] == 'G0']['Intensity'][0])\n",
    "norm_per_exp_G1 = per_exp.loc[per_exp['Condition'] == 'G1']['Intensity'].divide \\\n",
    "                (per_exp_min.loc[per_exp_min['Condition'] == 'G1']['Intensity'][1])\n",
    "norm_per_exp_G2 = per_exp.loc[per_exp['Condition'] == 'G2']['Intensity'].divide \\\n",
    "                (per_exp_min.loc[per_exp_min['Condition'] == 'G2']['Intensity'][2])"
   ]
  },
  {
   "cell_type": "code",
   "execution_count": null,
   "metadata": {},
   "outputs": [],
   "source": [
    "per_exp['Norm Intensity'] = pd.concat([norm_per_exp_G0, norm_per_exp_G1, norm_per_exp_G2], axis=0)"
   ]
  },
  {
   "cell_type": "code",
   "execution_count": null,
   "metadata": {},
   "outputs": [],
   "source": [
    "%cd \"C:\\Users\\paz2009\\Documents\\Experiments\\011 APOL1 (Joe) (Hunter)\\CHO RUSH Image Analysis 02-20-19\\joe_output\"\n",
    "\n",
    "plt.figure(figsize=(8, 6))\n",
    "ax = sns.pointplot(x='Timepoint', y='Norm Intensity', hue='Condition', data=per_exp, ci = 'sd',\n",
    "              capsize=.15, errwidth=2, scale=.8,\n",
    "              palette=[\"k\", \"mediumblue\", \"C3\"], markers=[\"o\", \"s\", \"^\"],\n",
    "              order=['no', '30min', '60min', '90min', '120min'])\n",
    "ax.set_xlabel('')\n",
    "ax.set_ylabel('')\n",
    "ax.get_legend().remove()\n",
    "plt.savefig('Percent Expressing APOL1 Norm to no SD.png', dpi=300)"
   ]
  },
  {
   "cell_type": "code",
   "execution_count": null,
   "metadata": {},
   "outputs": [],
   "source": [
    "%cd C:\\Users\\paz2009\\Documents\\Experiments\\011 APOL1 (Joe) (Hunter)\\CHO RUSH Image Analysis 02-20-19\\joe_output\n",
    "\n",
    "per_exp.to_excel('per_of_cells_norm_to_no.xlsx')"
   ]
  },
  {
   "cell_type": "code",
   "execution_count": null,
   "metadata": {},
   "outputs": [],
   "source": [
    "mean_int = result.groupby(['Condition', 'Timepoint', 'Replicate']).mean()"
   ]
  },
  {
   "cell_type": "code",
   "execution_count": null,
   "metadata": {},
   "outputs": [],
   "source": [
    "mean_int = mean_int.reset_index()\n",
    "mean_int = mean_int.loc[mean_int['Condition'] != 'untransfected']\n",
    "mean_int = mean_int.fillna(0)"
   ]
  },
  {
   "cell_type": "code",
   "execution_count": null,
   "metadata": {},
   "outputs": [],
   "source": [
    "mean_int_mean = mean_int.groupby(['Condition', 'Timepoint']).mean().reset_index()\n",
    "mean_int_min = mean_int_mean.reset_index().groupby(['Condition']).min().reset_index()"
   ]
  },
  {
   "cell_type": "code",
   "execution_count": null,
   "metadata": {},
   "outputs": [],
   "source": [
    "norm_mean_int_G0 = mean_int.loc[mean_int['Condition'] == 'G0']['Intensity'].divide \\\n",
    "                (mean_int_min.loc[mean_int_min['Condition'] == 'G0']['Intensity'][0])\n",
    "norm_mean_int_G1 = mean_int.loc[mean_int['Condition'] == 'G1']['Intensity'].divide \\\n",
    "                (mean_int_min.loc[mean_int_min['Condition'] == 'G1']['Intensity'][1])\n",
    "norm_mean_int_G2 = mean_int.loc[mean_int['Condition'] == 'G2']['Intensity'].divide \\\n",
    "                (mean_int_min.loc[mean_int_min['Condition'] == 'G2']['Intensity'][2])"
   ]
  },
  {
   "cell_type": "code",
   "execution_count": null,
   "metadata": {},
   "outputs": [],
   "source": [
    "mean_int['Norm Intensity'] = pd.concat([norm_mean_int_G0, norm_mean_int_G1, norm_mean_int_G2], axis=0)\n",
    "mean_int.to_excel('mean_int_norm_to_no.xlsx')"
   ]
  },
  {
   "cell_type": "code",
   "execution_count": null,
   "metadata": {},
   "outputs": [],
   "source": [
    "%cd \"C:\\Users\\paz2009\\Documents\\Experiments\\011 APOL1 (Joe) (Hunter)\\Image Analysis 2-20-19\\joe_output\"\n",
    "\n",
    "plt.figure(figsize=(8, 6))\n",
    "ax = sns.pointplot(x='Timepoint', y='Norm Intensity', hue='Condition', data=mean_int,\n",
    "              capsize=.15, errwidth=2, scale=.8,\n",
    "              palette=[\"k\", \"mediumblue\", \"C3\"], markers=[\"o\", \"s\", \"^\"],\n",
    "              order=['no', '30min', '60min', '90min', '120min'])\n",
    "ax.set_xlabel('')\n",
    "ax.set_ylabel('')\n",
    "ax.get_legend().remove()\n",
    "#plt.savefig('Normalized_Mean_Cell_Intensity Norm to Timepoint with Max Int.svg', dpi=150)"
   ]
  },
  {
   "cell_type": "code",
   "execution_count": null,
   "metadata": {},
   "outputs": [],
   "source": [
    "%cd \"C:\\Users\\paz2009\\Documents\\Experiments\\011 APOL1 (Joe) (Hunter)\\CHO RUSH Image Analysis 02-20-19\\joe_output\"\n",
    "\n",
    "plt.figure(figsize=(8, 6))\n",
    "ax = sns.pointplot(x='Timepoint', y='Norm Intensity', hue='Condition', data=mean_int, ci = 'sd',\n",
    "              capsize=.15, errwidth=2, scale=.8,\n",
    "              palette=[\"k\", \"mediumblue\", \"C3\"], markers=[\"o\", \"s\", \"^\"],\n",
    "              order=['no', '30min', '60min', '90min', '120min'])\n",
    "ax.set_xlabel('')\n",
    "ax.set_ylabel('')\n",
    "ax.get_legend().remove()\n",
    "plt.savefig('Normalized_Mean_Cell_Intensity Norm to no SD.png', dpi=300)"
   ]
  },
  {
   "cell_type": "code",
   "execution_count": null,
   "metadata": {},
   "outputs": [],
   "source": [
    "f = plt.figure(figsize=(20, 16))\n",
    "\n",
    "gs = gridspec.GridSpec(1, 2,\n",
    "                       width_ratios=[1, 5])\n",
    "\n",
    "ax1 = plt.subplot(gs[1])\n",
    "ax2 = plt.subplot(gs[0])\n",
    "\n",
    "sns.swarmplot(x=\"Condition\", y=\"Intensity\", hue=\"Timepoint\", data=filtered_result, \n",
    "                   order = ['G0','G1','G2'],\n",
    "                   hue_order=['no','30min','60min','90min','120min'],\n",
    "                   palette=\"Set1\", dodge=True, ax=ax1)\n",
    "ax1.set_title('', fontsize=14)\n",
    "ax1.set_xlabel('', fontsize=14)\n",
    "ax1.set_ylabel('', fontsize=14)\n",
    "ax1.legend(loc='upper right', fontsize=12)\n",
    "\n",
    "sns.swarmplot(x=\"Condition\", y=\"Intensity\", hue=\"Timepoint\", data=filtered_result, \n",
    "                   order = ['Untransfected'],\n",
    "                   hue_order=['Untransfected'],\n",
    "                   palette=\"Set1\", dodge=True, ax=ax2)\n",
    "ax2.set_title('', fontsize=14)\n",
    "ax2.set_xlabel('', fontsize=14)\n",
    "ax2.set_ylabel('APOL1 Signal Intensity', fontsize=14)\n",
    "ax2.legend(loc='upper right', fontsize=12)\n",
    "\n",
    "plt.savefig('Filtered Swarm Plot.svg', dpi=200)\n",
    "plt.show()"
   ]
  }
 ],
 "metadata": {
  "kernelspec": {
   "display_name": "Python 3",
   "language": "python",
   "name": "python3"
  },
  "language_info": {
   "codemirror_mode": {
    "name": "ipython",
    "version": 3
   },
   "file_extension": ".py",
   "mimetype": "text/x-python",
   "name": "python",
   "nbconvert_exporter": "python",
   "pygments_lexer": "ipython3",
   "version": "3.7.1"
  }
 },
 "nbformat": 4,
 "nbformat_minor": 2
}
